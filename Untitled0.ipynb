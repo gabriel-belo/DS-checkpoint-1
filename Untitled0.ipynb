{
  "nbformat": 4,
  "nbformat_minor": 0,
  "metadata": {
    "colab": {
      "provenance": []
    },
    "kernelspec": {
      "name": "python3",
      "display_name": "Python 3"
    },
    "language_info": {
      "name": "python"
    }
  },
  "cells": [
    {
      "cell_type": "code",
      "source": [
        "import pandas as pd\n",
        "import matplotlib.pyplot as plt\n",
        "\n",
        "dados= pd.read_csv(\"dados_produtividade_construcao_limpo.csv\")\n",
        "\n",
        "obra1= dados.query('OBRA == \"Obra A\"')\n",
        "obra2= dados.query('OBRA == \"Obra B\"')\n",
        "obra3= dados.query('OBRA == \"Obra C\"')\n",
        "\n"
      ],
      "metadata": {
        "id": "gRVe9QQKUeOe"
      },
      "execution_count": 12,
      "outputs": []
    },
    {
      "cell_type": "markdown",
      "source": [
        "1 - Crie um código que importa os dados e, ao importá-los analise suas colunas comentando sobre o tipo de variável de cada uma."
      ],
      "metadata": {
        "id": "xosDv9kSUbjZ"
      }
    },
    {
      "cell_type": "markdown",
      "source": [
        "**ID**: Está variável é qualitativa ordinal, pois ela ordena os valores em ordem de menor para maior id\n",
        "\n",
        "**CREATED**: Está variável é quantitativa discreta pois os valores\n",
        "\n",
        "** O que significa ALVENARIA BLOCO APARENTE?\n",
        "Refere-se ao tipo de serviço/atividade ou material utilizado.\n",
        "ALVENARIA = Construção de paredes/muros com blocos (pode ser cerâmico, de concreto, etc.).\n",
        "BLOCO APARENTE = Significa que o bloco fica exposto, não é revestido com argamassa ou pintura depois de assentado.**\n",
        "\n",
        "**H/M² representa a produtividade de mão de obra em relação à área produzida**"
      ],
      "metadata": {
        "id": "aJJzP90DVQfA"
      }
    },
    {
      "cell_type": "code",
      "source": [
        "print(dados)"
      ],
      "metadata": {
        "colab": {
          "base_uri": "https://localhost:8080/"
        },
        "id": "N6sB6p-nUn3H",
        "outputId": "5871d85e-37da-4c23-dc0b-67b96c0e31ac"
      },
      "execution_count": 11,
      "outputs": [
        {
          "output_type": "stream",
          "name": "stdout",
          "text": [
            "      ID    OBRA              CREATED  \\\n",
            "0      2  Obra A  2021-02-03 12:22:30   \n",
            "1      3  Obra A  2021-02-04 11:44:00   \n",
            "2      4  Obra A  2021-02-04 12:23:00   \n",
            "3      5  Obra A  2021-02-04 12:40:00   \n",
            "4      6  Obra A  2021-02-05 10:09:00   \n",
            "..   ...     ...                  ...   \n",
            "446  448  Obra C  2021-05-28 13:25:00   \n",
            "447  449  Obra C  2021-06-04 12:15:00   \n",
            "448  450  Obra C  2021-06-07 08:50:00   \n",
            "449  451  Obra C  2021-06-25 11:30:00   \n",
            "450  452  Obra C  2021-07-05 12:25:00   \n",
            "\n",
            "                                      DESCRICAO  \\\n",
            "0    BLOCOS VAZADOS DE CONCRETO APARENTE - 19CM   \n",
            "1    BLOCOS VAZADOS DE CONCRETO APARENTE - 19CM   \n",
            "2    BLOCOS VAZADOS DE CONCRETO APARENTE - 19CM   \n",
            "3    BLOCOS VAZADOS DE CONCRETO APARENTE - 19CM   \n",
            "4    BLOCOS VAZADOS DE CONCRETO APARENTE - 19CM   \n",
            "..                                          ...   \n",
            "446           BLOCOS VAZADOS DE CONCRETO - 19CM   \n",
            "447           BLOCOS VAZADOS DE CONCRETO - 19CM   \n",
            "448           BLOCOS VAZADOS DE CONCRETO - 19CM   \n",
            "449           BLOCOS VAZADOS DE CONCRETO - 19CM   \n",
            "450           BLOCOS VAZADOS DE CONCRETO - 19CM   \n",
            "\n",
            "                        CLASSE_COMP INSUMO_ATUAL      IP_D UNIDADE  COEF_SIURB  \n",
            "0          ALVENARIA BLOCO APARENTE  MAO DE OBRA  0.724638    H/M2      1.9449  \n",
            "1          ALVENARIA BLOCO APARENTE  MAO DE OBRA  1.123611    H/M2      1.9449  \n",
            "2          ALVENARIA BLOCO APARENTE  MAO DE OBRA  2.034783    H/M2      1.9449  \n",
            "3          ALVENARIA BLOCO APARENTE  MAO DE OBRA  1.037037    H/M2      1.9449  \n",
            "4          ALVENARIA BLOCO APARENTE  MAO DE OBRA  0.803138    H/M2      1.9449  \n",
            "..                              ...          ...       ...     ...         ...  \n",
            "446  ALVENARIA BLOCOS DE CONCRETO 3  MAO DE OBRA  0.809725    H/M2      1.4849  \n",
            "447  ALVENARIA BLOCOS DE CONCRETO 3  MAO DE OBRA  1.527881    H/M2      1.4849  \n",
            "448  ALVENARIA BLOCOS DE CONCRETO 3  MAO DE OBRA  2.486983    H/M2      1.4849  \n",
            "449  ALVENARIA BLOCOS DE CONCRETO 3  MAO DE OBRA  1.111111    H/M2      1.4849  \n",
            "450  ALVENARIA BLOCOS DE CONCRETO 3  MAO DE OBRA  0.761317    H/M2      1.4849  \n",
            "\n",
            "[451 rows x 9 columns]\n"
          ]
        }
      ]
    },
    {
      "cell_type": "markdown",
      "source": [
        "2 - Estatística é sobre \"responder perguntas com dados\", se coloque no lugar do gestor da construtora: com esses dados de produtividade de equipes em 3 obras diferentes, que tipo de perguntas poderíamos responder com esses dados (liste as que conseguir pensar)?\n",
        "\n",
        "Com base nesses dados podemos responder várias perguntas e trazer valor attravés desses dados para a empresa, aglumas perguntas são:\n",
        "1.Qual equipe é mais constante e eficiênte?\n",
        "\n",
        "2.Qual o tipo de bloco é utilizado e traz maior eficiência?\n",
        "\n",
        "3.Qual o prazo das obras?\n",
        "\n",
        "4.Qual pode ser a relação entr tipo de bloco, como ele se relaciona com o tipo de serviço/atividade ou material utilizado e como esses afetam a eficiência da construção.\n"
      ],
      "metadata": {
        "id": "iC3FbQRaYdmP"
      }
    },
    {
      "cell_type": "markdown",
      "source": [
        "3- Utilize tudo que aprendeu sobre medidas de posição central, gráfico de densidade de frequência e boxplot para responder a seguinte pergunta: Há diferença de produtividade entre obras? Se há, qual obra mais produtiva? Qual menos produtiva? Consegue pensar em motivos para esses comportamentos?"
      ],
      "metadata": {
        "id": "0uGj5Jc-a8h4"
      }
    },
    {
      "cell_type": "markdown",
      "source": [
        "A obra B apresenta maior produtividade de forma geral porém apresenta muitos dias que fogem da sua média de dias eficientes, a obra C apresenta eficiência  menor, mas apresenta uma variação menor dos dados apresentando maior constância, a obra A apresenta bastante incostância e pouca eficiência. Esses resultados podem se dar pela variação do tipo de bloco utlizado em cada obra e pelo tipo de serviço/atividade ou material utilizado, também poderia ser por algo interno da equipe ou situações de logística."
      ],
      "metadata": {
        "id": "5VX6igfjfmYR"
      }
    },
    {
      "cell_type": "code",
      "source": [
        "# Informações obra A\n",
        "#Cálculo media e mediana da primeira obra A\n",
        "mediana= round(obra1['IP_D'].median(),3)\n",
        "media= round(obra1['IP_D'].mean(), 3)\n",
        "\n",
        "print(f\"A mediana: {mediana}\")\n",
        "print(f\"A média: {media}\")\n",
        "\n",
        "#Outros dados para verificar outliers\n",
        "\n",
        "#Valores máximo, mínimo e amplitude\n",
        "max= round(obra1['IP_D'].max(), 3)\n",
        "min= round(obra1['IP_D'].min(), 3)\n",
        "amplitude= round(max - min, 3)\n",
        "\n",
        "print(f\"Valor máximo: {max}\")\n",
        "print(f\"Valor mínimo: {min}\")\n",
        "print(f\"Amplitude: {amplitude}\")\n",
        "\n",
        "#Pegando os quartis\n",
        "q1 = round(obra1['IP_D'].quantile(0.25), 3)\n",
        "q2 = round(obra1['IP_D'].quantile(0.5), 3)  # Mediana\n",
        "q3 = round(obra1['IP_D'].quantile(0.75), 3)\n",
        "\n",
        "print(\"Q1 (25%):\", q1)\n",
        "print(\"Q2 (50%):\", q2)\n",
        "print(\"Q3 (75%):\", q3)\n",
        "\n",
        "#Distância interquartil\n",
        "IQR= round(q3- q1, 2)\n",
        "print(f\"IQR: {IQR}\")\n",
        "\n",
        "\n",
        "#LIMITE INFERIOR E SUPERIOR\n",
        "limite_inferior = round( q1 - 1.5 * IQR, 2)\n",
        "limite_superior = round( q3 + 1.5 * IQR, 2)\n",
        "\n",
        "print(\"Limite Inferior:\", limite_inferior)\n",
        "print(\"Limite Superior:\", limite_superior)\n",
        "\n",
        "#Comparações para verificar simetria dos dados\n",
        "#Como tolerância iremos utilizar 10% da amplitude\n",
        "tolerancia = round(0.1 * (amplitude), 3)\n",
        "\n",
        "#1. Verificar a simetria entre os primeiros 50% dos valores e os últimos 50% dos valores\n",
        "#q2- x(1) = xn - q3\n",
        "valor1= round(q2 - min, 3)\n",
        "valor2= round(max - q2, 3)\n",
        "print(f\"Valor do lado esquerdo: {valor1} e valor do lado direito: {valor2}, tolerância: {tolerancia}\")\n",
        "\n",
        "#2. Verificar a simetria no 2/4 e 3/4 dos valores.\n",
        "valor1= round(q2 - q1, 3)\n",
        "valor2= round(q3- q2, 3)\n",
        "print(f\"Valor do lado esquerdo: {valor1} e valor do lado direito: {valor2}, tolerância: {tolerancia}\")\n",
        "\n",
        "#3. Verificar a simetria no 1/4 e no 3/4\n",
        "valor1= round(q1 - min, 3)\n",
        "valor2= round(max- q3, 3)\n",
        "print(f\"Valor do lado esquerdo: {valor1} e valor do lado direito: {valor2}, tolerância: {tolerancia}\")\n",
        "\n",
        "outliers_inferiores = obra1[obra1['IP_D'] <= limite_inferior]\n",
        "outliers_superiores = obra1[obra1['IP_D'] >= limite_superior]\n",
        "\n",
        "\n",
        "quantidade_outliers_inferiores = outliers_inferiores.shape[0]\n",
        "quantidade_outliers_superiores = outliers_superiores.shape[0]\n",
        "\n",
        "\n",
        "print(\"Quantidade de outliers inferiores:\", quantidade_outliers_inferiores)\n",
        "print(\"Quantidade de outliers superiores:\", quantidade_outliers_superiores)\n"
      ],
      "metadata": {
        "id": "LNC8w6pbbKRY"
      },
      "execution_count": null,
      "outputs": []
    },
    {
      "cell_type": "code",
      "source": [
        "#Informações obra B\n",
        "#Cálculo media e mediana da primeira obra B\n",
        "mediana= round(obra2['IP_D'].median(),3)\n",
        "media= round(obra2['IP_D'].mean(),3)\n",
        "\n",
        "print(f\"A mediana: {mediana}\")\n",
        "print(f\"A média: {media}\")\n",
        "\n",
        "#Outros dados para verificar outliers\n",
        "\n",
        "#Valores máximo, mínimo e amplitude\n",
        "max= round(obra2['IP_D'].max(), 3)\n",
        "min= round(obra2['IP_D'].min(), 3)\n",
        "amplitude= round(max - min, 3)\n",
        "\n",
        "print(f\"Valor máximo: {max}\")\n",
        "print(f\"Valor mínimo: {min}\")\n",
        "print(f\"Amplitude: {amplitude}\")\n",
        "\n",
        "#Pegando os quartis\n",
        "q1 = round(obra2['IP_D'].quantile(0.25), 3)\n",
        "q2 = round(obra2['IP_D'].quantile(0.5), 3)  # Mediana\n",
        "q3 = round(obra2['IP_D'].quantile(0.75), 3)\n",
        "\n",
        "print(\"Q1 (25%):\", q1)\n",
        "print(\"Q2 (50%):\", q2)\n",
        "print(\"Q3 (75%):\", q3)\n",
        "\n",
        "#Distância interquartil\n",
        "IQR= round(q3- q1, 2)\n",
        "print(f\"IQR: {IQR}\")\n",
        "\n",
        "\n",
        "#LIMITE INFERIOR E SUPERIOR\n",
        "limite_inferior = round( q1 - 1.5 * IQR, 2)\n",
        "limite_superior = round(q3 + 1.5 * IQR, 2)\n",
        "\n",
        "print(\"Limite Inferior:\", limite_inferior)\n",
        "print(\"Limite Superior:\", limite_superior)\n",
        "\n",
        "#Comparações para verificar simetria dos dados\n",
        "#Como tolerância iremos utilizar 10% da amplitude\n",
        "tolerancia = round(0.1 * (amplitude), 3)\n",
        "\n",
        "#1. Verificar a simetria entre os primeiros 50% dos valores e os últimos 50% dos valores\n",
        "#q2- x(1) = xn - q3\n",
        "valor1= round(q2 - min, 3)\n",
        "valor2= round(max - q2, 3)\n",
        "print(f\"Valor do lado esquerdo: {valor1} e valor do lado direito: {valor2}, tolerância: {tolerancia}\")\n",
        "\n",
        "#2. Verificar a simetria no 2/4 e 3/4 dos valores.\n",
        "valor1= round(q2 - q1, 3)\n",
        "valor2= round(q3- q2, 3)\n",
        "print(f\"Valor do lado esquerdo: {valor1} e valor do lado direito: {valor2}, tolerância: {tolerancia}\")\n",
        "\n",
        "#3. Verificar a simetria no 1/4 e no 3/4\n",
        "valor1= round(q1 - min, 3)\n",
        "valor2= round(max- q3, 3)\n",
        "print(f\"Valor do lado esquerdo: {valor1} e valor do lado direito: {valor2}, tolerância: {tolerancia}\")\n",
        "\n",
        "outliers_inferiores = obra2[obra2['IP_D'] <= limite_inferior]\n",
        "outliers_superiores = obra2[obra2['IP_D'] >= limite_superior]\n",
        "\n",
        "\n",
        "quantidade_outliers_inferiores = outliers_inferiores.shape[0]\n",
        "quantidade_outliers_superiores = outliers_superiores.shape[0]\n",
        "\n",
        "\n",
        "print(\"Quantidade de outliers inferiores:\", quantidade_outliers_inferiores)\n",
        "print(\"Quantidade de outliers superiores:\", quantidade_outliers_superiores)"
      ],
      "metadata": {
        "id": "DmvI2H8ubgo4"
      },
      "execution_count": null,
      "outputs": []
    },
    {
      "cell_type": "code",
      "source": [
        "#Informações obra C\n",
        "#Cálculo media e mediana da primeira obra C\n",
        "mediana= round(obra3['IP_D'].median(), 3)\n",
        "media= round(obra3['IP_D'].mean(), 3)\n",
        "\n",
        "print(f\"A mediana: {mediana}\")\n",
        "print(f\"A média: {media}\")\n",
        "\n",
        "#Outros dados para verificar outliers\n",
        "\n",
        "#Valores máximo, mínimo e amplitude\n",
        "max= round(obra3['IP_D'].max(), 3)\n",
        "min= round(obra3['IP_D'].min(), 3)\n",
        "amplitude= round(max - min, 3)\n",
        "\n",
        "print(f\"Valor máximo: {max}\")\n",
        "print(f\"Valor mínimo: {min}\")\n",
        "print(f\"Amplitude: {amplitude}\")\n",
        "\n",
        "#Pegando os quartis\n",
        "q1 = round(obra3['IP_D'].quantile(0.25), 3)\n",
        "q2 = round(obra3['IP_D'].quantile(0.5), 3)  # Mediana\n",
        "q3 = round(obra3['IP_D'].quantile(0.75), 3)\n",
        "\n",
        "print(\"Q1 (25%):\", q1)\n",
        "print(\"Q2 (50%):\", q2)\n",
        "print(\"Q3 (75%):\", q3)\n",
        "\n",
        "#Distância interquartil\n",
        "IQR= round(q3- q1, 2)\n",
        "print(f\"IQR: {IQR}\")\n",
        "\n",
        "\n",
        "#LIMITE INFERIOR E SUPERIOR\n",
        "limite_inferior = round( q1 - 1.5 * IQR, 2)\n",
        "limite_superior = round(q3 + 1.5 * IQR, 2)\n",
        "\n",
        "print(\"Limite Inferior:\", limite_inferior)\n",
        "print(\"Limite Superior:\", limite_superior)\n",
        "\n",
        "#Comparações para verificar simetria dos dados\n",
        "#Como tolerância iremos utilizar 10% da amplitude\n",
        "tolerancia = round(0.1 * (amplitude), 3)\n",
        "\n",
        "#1. Verificar a simetria entre os primeiros 50% dos valores e os últimos 50% dos valores\n",
        "#q2- x(1) = xn - q3\n",
        "valor1= round(q2 - min, 3)\n",
        "valor2= round(max - q2, 3)\n",
        "print(f\"Valor do lado esquerdo: {valor1} e valor do lado direito: {valor2}, tolerância: {tolerancia}\")\n",
        "\n",
        "#2. Verificar a simetria no 2/4 e 3/4 dos valores.\n",
        "valor1= round(q2 - q1, 3)\n",
        "valor2= round(q3- q2, 3)\n",
        "print(f\"Valor do lado esquerdo: {valor1} e valor do lado direito: {valor2}, tolerância: {tolerancia}\")\n",
        "\n",
        "#3. Verificar a simetria no 1/4 e no 3/4\n",
        "valor1= round(q1 - min, 3)\n",
        "valor2= round(max- q3, 3)\n",
        "print(f\"Valor do lado esquerdo: {valor1} e valor do lado direito: {valor2}, tolerância: {tolerancia}\")\n",
        "\n",
        "#Contando a quantidade de outliers a esquerda e a direita\n",
        "outliers_inferiores = obra3[obra3['IP_D'] <= limite_inferior]\n",
        "outliers_superiores = obra3[obra3['IP_D'] >= limite_superior]\n",
        "\n",
        "\n",
        "quantidade_outliers_inferiores = outliers_inferiores.shape[0]\n",
        "quantidade_outliers_superiores = outliers_superiores.shape[0]\n",
        "\n",
        "\n",
        "print(\"Quantidade de outliers inferiores:\", quantidade_outliers_inferiores)\n",
        "print(\"Quantidade de outliers superiores:\", quantidade_outliers_superiores)\n",
        "\n"
      ],
      "metadata": {
        "id": "gJDuLjtwbgXB"
      },
      "execution_count": null,
      "outputs": []
    },
    {
      "cell_type": "code",
      "source": [
        "#gráfico boxplot\n",
        "plt.figure(figsize=(10,8))\n",
        "# Criando o boxplot com preenchimento de cor\n",
        "box = plt.boxplot([obra1['IP_D'], obra2['IP_D'], obra3['IP_D']], patch_artist=True)\n",
        "\n",
        "# Definindo as cores das caixas\n",
        "cores = ['lightblue', 'lightgreen', 'lightcoral']\n",
        "\n",
        "# Aplicando cores nas caixas (boxes)\n",
        "for patch, cor in zip(box['boxes'], cores):\n",
        "    patch.set_facecolor(cor)\n",
        "\n",
        "plt.xticks([1, 2, 3], ['Obra A', ' Obra B', 'Obra C'])\n",
        "plt.title('Eficiência da mão de obra em relação à área produzida')\n",
        "plt.show()"
      ],
      "metadata": {
        "colab": {
          "base_uri": "https://localhost:8080/",
          "height": 699
        },
        "id": "HjnCH7bocFAj",
        "outputId": "885a83b9-569f-4db3-cdc9-52365b6c6956"
      },
      "execution_count": 16,
      "outputs": [
        {
          "output_type": "display_data",
          "data": {
            "text/plain": [
              "<Figure size 1000x800 with 1 Axes>"
            ],
            "image/png": "[encoded data removed]"
          },
          "metadata": {}
        }
      ]
    },
    {
      "cell_type": "markdown",
      "source": [
        "4 - Utilize tudo que aprendeu sobre medidas de posição central, gráfico de densidade de frequência e boxplot para responder a seguinte pergunta: Há diferença de produtividade entre blocos (coluna descrição)? Se há, qual bloco é mais produtivo? Qual menos produtivo? Consegue pensar em motivos para esses comportamentos?"
      ],
      "metadata": {
        "id": "zHj0emKrhDN0"
      }
    },
    {
      "cell_type": "markdown",
      "source": [
        "Entre as questões que podem fazer com que ocorra variação na eficiência de uma obra de acordo com o tipo de bloco utilizado, o bloco de espessura 19 cm tem uma resistência estrutural maior que do bloco de 09 cm fazendo com que possa ocorrer menos quebra de blocos.\n",
        "O local em que se utiliza cada pode bloco também pode gerar essa variação, os blocos de 19cm são usadas em paredes externas e os blocos de 09 cm em paredes internas e divisórias. O bloco de 19 cm não precisa de revestimento, o bloco de 09 cm normalmente vai reboco. Todas essas questões podem trazer variações no decorrer do serviço.\n"
      ],
      "metadata": {
        "id": "k6vaK0DUkjO2"
      }
    },
    {
      "cell_type": "code",
      "source": [
        "tipo_bloco_A= obra1['DESCRICAO']\n",
        "tipo_Bloco_B= obra2['DESCRICAO']\n",
        "tipo_bloco_C= obra3['DESCRICAO']\n",
        "print(tipo_bloco_A)\n",
        "print(tipo_Bloco_B)\n",
        "print(tipo_bloco_C)"
      ],
      "metadata": {
        "colab": {
          "base_uri": "https://localhost:8080/"
        },
        "id": "FeJaMfilhazw",
        "outputId": "29005178-94ec-48b7-cc83-233c4d747884"
      },
      "execution_count": 18,
      "outputs": [
        {
          "output_type": "stream",
          "name": "stdout",
          "text": [
            "0      BLOCOS VAZADOS DE CONCRETO APARENTE - 19CM\n",
            "1      BLOCOS VAZADOS DE CONCRETO APARENTE - 19CM\n",
            "2      BLOCOS VAZADOS DE CONCRETO APARENTE - 19CM\n",
            "3      BLOCOS VAZADOS DE CONCRETO APARENTE - 19CM\n",
            "4      BLOCOS VAZADOS DE CONCRETO APARENTE - 19CM\n",
            "                          ...                    \n",
            "121    BLOCOS VAZADOS DE CONCRETO APARENTE - 19CM\n",
            "122    BLOCOS VAZADOS DE CONCRETO APARENTE - 19CM\n",
            "123    BLOCOS VAZADOS DE CONCRETO APARENTE - 19CM\n",
            "124    BLOCOS VAZADOS DE CONCRETO APARENTE - 19CM\n",
            "125    BLOCOS VAZADOS DE CONCRETO APARENTE - 19CM\n",
            "Name: DESCRICAO, Length: 126, dtype: object\n",
            "126    BLOCOS VAZADOS DE CONCRETO - 09CM\n",
            "127    BLOCOS VAZADOS DE CONCRETO - 09CM\n",
            "128    BLOCOS VAZADOS DE CONCRETO - 09CM\n",
            "129    BLOCOS VAZADOS DE CONCRETO - 09CM\n",
            "130    BLOCOS VAZADOS DE CONCRETO - 09CM\n",
            "                     ...                \n",
            "404    BLOCOS VAZADOS DE CONCRETO - 19CM\n",
            "405    BLOCOS VAZADOS DE CONCRETO - 19CM\n",
            "406    BLOCOS VAZADOS DE CONCRETO - 19CM\n",
            "407    BLOCOS VAZADOS DE CONCRETO - 19CM\n",
            "408    BLOCOS VAZADOS DE CONCRETO - 19CM\n",
            "Name: DESCRICAO, Length: 194, dtype: object\n",
            "195    BLOCOS VAZADOS DE CONCRETO - 09CM\n",
            "196    BLOCOS VAZADOS DE CONCRETO - 09CM\n",
            "197    BLOCOS VAZADOS DE CONCRETO - 09CM\n",
            "198    BLOCOS VAZADOS DE CONCRETO - 09CM\n",
            "199    BLOCOS VAZADOS DE CONCRETO - 09CM\n",
            "                     ...                \n",
            "446    BLOCOS VAZADOS DE CONCRETO - 19CM\n",
            "447    BLOCOS VAZADOS DE CONCRETO - 19CM\n",
            "448    BLOCOS VAZADOS DE CONCRETO - 19CM\n",
            "449    BLOCOS VAZADOS DE CONCRETO - 19CM\n",
            "450    BLOCOS VAZADOS DE CONCRETO - 19CM\n",
            "Name: DESCRICAO, Length: 131, dtype: object\n"
          ]
        }
      ]
    },
    {
      "cell_type": "markdown",
      "source": [
        "5- Nas duas respostas anteriores, como estava a relação entre média e mediana? Estavam próximas, afastadas? Comente sobre a possibilidade de outliers no grupo de dados."
      ],
      "metadata": {
        "id": "SFNP0TAqnSja"
      }
    },
    {
      "cell_type": "markdown",
      "source": [
        "6 - Qual dos blocos tem produtividade mais previsível? Qual tem produtividade menos previsível?"
      ],
      "metadata": {
        "id": "r0kIyQhKnpGy"
      }
    },
    {
      "cell_type": "markdown",
      "source": [
        "A obra A apresenta a maior difereça entre média e mediana, uma diferença de 0.27, mostrando-nos que esta possui outliers maiores para a sua direita gerando assim uma amplitude maior.\n",
        "Temos também outros dados para verificar a simetria dos grupos de dados. Primeiro podemos ver que a amplitude se sobrepõe na Obra A sobre as outras duas obras , também podemos perceber que até a variação dos valores centrais é  maior na Obra A, dando então a entender que a assimetria também é maior nos valores centrais, onde se costuma ter mais simetria. Não possuismos valores menores que os limites inferiores, pois todos os limites inferiores são negativos, e como não é possível medier valores negativos para tempo. Possuimos uma distância entre o limite superior e o maior valor na obra A com diferneça de 2.41, que é bem significante, também podemos ver através das relações que os valores se mostram mais dispersos do que o considerado na tolerância nas comparações, vemos que na comparação da primeira metade dos valores para a segunda metade existe uma dispersão muito maior na segunda metade com os valores variando de 1.135 a 5.564 oq é uma assimetria muito grande, temos também difenreça na comparação do 2/4 com o 3/4, porém é menor que nas outras duas dando uma diferença de aproximadamente 0.3, e na última comparação temos uma disperção muito maior no últimos 25% dos valores confirmando oq foi possível de ver em todos os outros dados que é uma grande dispersão dos dados nos últimos 50% fazendo assim que tenhamos muitos outliers para o lado direito ou dos valores mais altos"
      ],
      "metadata": {
        "id": "Xj80vFkXAxep"
      }
    },
    {
      "cell_type": "markdown",
      "source": [
        "A obra B apresenta a menor diferença entre media e mediana, isso nos diz que provavelmente temos menos outliers e que possuem dados mais próximos fazendo assim com que a assimetria a direita seja menor. A distâcnia interquartil é bem menor mostrando maior simetria nos valores centrais. Vemos que o valor máximo esta bem distante do limite superior mostrando que possuimos outliers bem extremos. E as comparações nos mostram uma assimetria dos 50% maiores valores sendo esta bem maior que dos valores a eaquerda e bem acima da tolerância, os valores centrais apresentam uma simetria bem grande, e os primeiro 25% e os últimos 25% tem uma diferença de simetria muito grande os primeiros 25% são bastante simétricos e os últimos 25% mostram uma grande assimetria mostrando então que os outlier estão presentes no lado direito"
      ],
      "metadata": {
        "id": "NKlZfoRiKIEL"
      }
    },
    {
      "cell_type": "markdown",
      "source": [
        "A obra C apresenta uma diferença proxíma de 0.2  entre média e mediana sendo a mediana 0.2 menor que a media, com isso chegamos a conclusão de os 50% maiores valores estão mais dispersos que  os 50% valores abaixo da mediana. Podemos ver que o limite superior está distante do maior valor e que a distância entre quartil é baixa mostrando simetria entre os dados, com as comparações 1 e 3 podemos ver que a distribuição é muito assimétrica a direita do valor central nos 50% maiores valores e também nos 25% maiores valores"
      ],
      "metadata": {
        "id": "yIjROR5EPDu6"
      }
    },
    {
      "cell_type": "markdown",
      "source": [
        "Isso significa que duas diferenças serão consideradas próximas se a diferença entre elas for menor que 10% da amplitude total dos dados."
      ],
      "metadata": {
        "id": "pFAdtbbg2OlN"
      }
    }
  ]
}